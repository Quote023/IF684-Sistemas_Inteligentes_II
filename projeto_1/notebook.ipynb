{
 "cells": [
  {
   "cell_type": "code",
   "execution_count": 266,
   "metadata": {},
   "outputs": [],
   "source": [
    "import numpy as np\n",
    "import pandas as pd\n",
    "import matplotlib.pyplot as plt\n",
    "from sklearn.impute import IterativeImputer\n",
    "from sklearn.preprocessing import normalize\n",
    "from sklearn.neural_network import MLPClassifier\n",
    "\n",
    "plt.style.use('default')\n",
    "\n",
    "trainData = pd.read_csv('input/train.csv')\n",
    "testData = pd.read_csv('input/test.csv')"
   ]
  },
  {
   "cell_type": "markdown",
   "metadata": {},
   "source": [
    "| Variável | Definição | Valores |\n",
    "|---|---|---|\n",
    "| Pclass | Classe do Bilhete | 1 \\| 2 \\| 3 |\n",
    "| Sex | Sexo | \"male\" \\| \"female\" |\n",
    "| Age | Idade | Anos (fracional se menor que 1)|\n",
    "| Sibsp | Qtd de irmãos/conjugues a bordo |  |\n",
    "| Parch | Qtd de pais/filhos a bordo |  |\n",
    "| Ticket | Numero do Ticket |  |\n",
    "| Fare | Taxa de passagem |  |\n",
    "| Cabin | Numero da Cabine |  |\n",
    "| Embarked | Porto de Embarque | C = Cherbourg, Q = Queenstown, S = Southampton |"
   ]
  },
  {
   "cell_type": "markdown",
   "metadata": {},
   "source": [
    "Consideramos que alguns campos como o número da cabine, o ticket, e o nome não são relevantes para a previsão e por isso removemos eles"
   ]
  },
  {
   "cell_type": "code",
   "execution_count": 267,
   "metadata": {},
   "outputs": [],
   "source": [
    "testPassengers = testData[\"PassengerId\"]\n",
    "trainData = trainData.drop([\"Cabin\",\"Ticket\",\"Name\",\"PassengerId\"], axis=1)\n",
    "testData = testData.drop([\"Cabin\",\"Ticket\",\"Name\",\"PassengerId\"], axis=1)\n"
   ]
  },
  {
   "cell_type": "code",
   "execution_count": 268,
   "metadata": {},
   "outputs": [
    {
     "data": {
      "text/plain": [
       "'qtd de idades inválidas: 177'"
      ]
     },
     "execution_count": 268,
     "metadata": {},
     "output_type": "execute_result"
    }
   ],
   "source": [
    "f\"qtd de idades inválidas: {trainData['Age'].isna().sum()}\""
   ]
  },
  {
   "cell_type": "markdown",
   "metadata": {},
   "source": [
    "Também percebemos que o campo `Age` possui alguns valores inválidos, sem idade informada ou com NaNs. Porém consideramos Idade uma informação relevante para a previsão. Então precisamos tratar esses dados!"
   ]
  },
  {
   "cell_type": "code",
   "execution_count": 269,
   "metadata": {},
   "outputs": [
    {
     "data": {
      "text/plain": [
       "'qtd de idades inválidas: 0'"
      ]
     },
     "execution_count": 269,
     "metadata": {},
     "output_type": "execute_result"
    },
    {
     "data": {
      "image/png": "[encoded data removed]",
      "text/plain": [
       "<Figure size 640x480 with 1 Axes>"
      ]
     },
     "metadata": {},
     "output_type": "display_data"
    }
   ],
   "source": [
    "columns = [\"SibSp\", \"Parch\", \"Age\"]\n",
    "imputer = IterativeImputer(min_value = 0)\n",
    "\n",
    "imputedValues = imputer.fit_transform(trainData[columns])\n",
    "correctedValues = pd.DataFrame(imputedValues, columns=columns)\n",
    "trainData[\"Age\"] = correctedValues[\"Age\"]\n",
    "\n",
    "imputedValues = imputer.fit_transform(trainData[columns])\n",
    "correctedValues = pd.DataFrame(imputedValues, columns=columns)\n",
    "testData[\"Age\"] = correctedValues[\"Age\"]\n",
    "\n",
    "trainData[\"Age\"].plot(kind='hist')\n",
    "f\"qtd de idades inválidas: {trainData['Age'].isna().sum()}\""
   ]
  },
  {
   "cell_type": "markdown",
   "metadata": {},
   "source": [
    "Usamos o `InterativeImputer` do `Scikit`, que basicamente tenta aproximar o valor que está faltando na coluna idade à partir das outras 2 colunas, iterando recursivamente até chegar em um valor que talvez seja próximo do valor real, podemos parametrizar ele mais, mas deixamos no comportamento padrão.  \n",
    "> Existem outros métodos de se imputar valores como o `SimpleImputer`, ou simplesmente tentar fazer uma média, moda ou mediana para preencher os valores que estão faltando. Mas no nosso caso o InterativeImputer funcionou bem."
   ]
  },
  {
   "cell_type": "code",
   "execution_count": 270,
   "metadata": {},
   "outputs": [],
   "source": [
    "#Valores faltando na taxa de embarque => média\n",
    "trainData[\"Fare\"] = trainData[\"Fare\"].replace(np.NaN, trainData[\"Fare\"].mean())\n",
    "testData[\"Fare\"] = testData[\"Fare\"].replace(np.NaN, testData[\"Fare\"].mean())\n",
    "\n",
    "#converter em valores numéricos\n",
    "trainData[\"Sex\"] = trainData[\"Sex\"].map({\"male\": 0, \"female\": 1})\n",
    "trainData[\"Embarked\"] = trainData[\"Embarked\"].map({\"C\": 0, \"Q\": 1, \"S\": 2})\n",
    "testData[\"Sex\"] = testData[\"Sex\"].map({\"male\": 0, \"female\": 1})\n",
    "testData[\"Embarked\"] = testData[\"Embarked\"].map({\"C\": 0, \"Q\": 1, \"S\": 2})\n",
    "\n",
    "#Criamos essa coluna temporaria \"FamilyCount\" somando a qtd de filhos e de conjugues ao passageiro\n",
    "#O dado mais relevante é saber se o passageiro está sozinho ou não.\n",
    "trainData[\"FamilyCount\"] = trainData['SibSp'] + trainData['Parch'] + 1\n",
    "testData[\"FamilyCount\"] = testData['SibSp'] + testData['Parch'] + 1\n",
    "trainData['IsAlone'] = trainData[\"FamilyCount\"] == 1\n",
    "testData['IsAlone'] = trainData[\"FamilyCount\"] == 1\n",
    "\n",
    "trainData = trainData.drop([\"SibSp\",\"Parch\", \"FamilyCount\"], axis=1)\n",
    "testData = testData.drop([\"SibSp\",\"Parch\", \"FamilyCount\"], axis=1)\n",
    "\n",
    "#removo qualquer NaN remanescente.\n",
    "trainData = trainData.dropna().reset_index(drop=True)\n",
    "testData = testData.dropna().reset_index(drop=True)\n",
    "\n"
   ]
  },
  {
   "cell_type": "code",
   "execution_count": 271,
   "metadata": {},
   "outputs": [
    {
     "name": "stdout",
     "output_type": "stream",
     "text": [
      "Valores não relacionados:\n",
      "Age    0.066552\n",
      "Name: Survived, dtype: float64\n"
     ]
    }
   ],
   "source": [
    "matriz = trainData.corr()\n",
    "corrSurvived = abs(matriz[\"Survived\"])\n",
    "print(f\"Valores não relacionados:\\n{corrSurvived[corrSurvived < 0.1]}\")\n"
   ]
  },
  {
   "cell_type": "markdown",
   "metadata": {},
   "source": [
    "Mesmo com os tratamentos o AGE ainda não tá correlacionado à taxa de sobrevivencia nos dados de treino."
   ]
  },
  {
   "cell_type": "markdown",
   "metadata": {},
   "source": [
    "# Normalizando Dados"
   ]
  },
  {
   "cell_type": "code",
   "execution_count": 272,
   "metadata": {},
   "outputs": [],
   "source": [
    "trainDataSurvived = trainData[\"Survived\"]\n",
    "\n",
    "# trainData = pd.DataFrame(normalize(trainData, axis=0), columns=trainData.columns)\n",
    "# testData = pd.DataFrame(normalize(testData, axis=0), columns=testData.columns)\n",
    "# trainData[\"Survived\"] = trainDataSurvived\n",
    "\n",
    "trainY = trainData[\"Survived\"]\n",
    "trainX = trainData.drop([\"Survived\"], axis=1)"
   ]
  },
  {
   "cell_type": "markdown",
   "metadata": {},
   "source": [
    "# Treinando MLP"
   ]
  },
  {
   "cell_type": "code",
   "execution_count": 273,
   "metadata": {},
   "outputs": [
    {
     "name": "stdout",
     "output_type": "stream",
     "text": [
      "Training set score: 0.7908\n"
     ]
    },
    {
     "data": {
      "text/plain": [
       "<Axes: ylabel='Frequency'>"
      ]
     },
     "execution_count": 273,
     "metadata": {},
     "output_type": "execute_result"
    },
    {
     "data": {
      "image/png": "[encoded data removed]",
      "text/plain": [
       "<Figure size 640x480 with 1 Axes>"
      ]
     },
     "metadata": {},
     "output_type": "display_data"
    }
   ],
   "source": [
    "mlp = MLPClassifier(\n",
    "  hidden_layer_sizes=256,\n",
    "  activation='logistic',\n",
    "  learning_rate_init=.01,\n",
    "  solver='sgd',\n",
    "  max_iter=10000,\n",
    "  tol=1e-4\n",
    ")\n",
    "mlp.fit(trainX, trainY)\n",
    "\n",
    "# Scoring\n",
    "print(\"Training set score: {:.4f}\".format(mlp.score(trainX, trainY)))\n",
    "\n",
    "\n",
    "# Confusion matrix\n",
    "y_pred = mlp.predict(testData)\n",
    "result = pd.DataFrame({\"PassengerId\" : testPassengers, \"Survived\": y_pred})\n",
    "\n",
    "result[\"Survived\"].plot(kind='pie')\n",
    "# fig, ax = plt.subplots()"
   ]
  }
 ],
 "metadata": {
  "kernelspec": {
   "display_name": "Python 3",
   "language": "python",
   "name": "python3"
  },
  "language_info": {
   "codemirror_mode": {
    "name": "ipython",
    "version": 3
   },
   "file_extension": ".py",
   "mimetype": "text/x-python",
   "name": "python",
   "nbconvert_exporter": "python",
   "pygments_lexer": "ipython3",
   "version": "3.10.4"
  }
 },
 "nbformat": 4,
 "nbformat_minor": 2
}
